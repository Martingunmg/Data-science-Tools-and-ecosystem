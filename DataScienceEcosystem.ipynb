{
 "cells": [
  {
   "cell_type": "markdown",
   "id": "984aca0f-19c0-4022-b435-5fa40552f2cc",
   "metadata": {
    "tags": []
   },
   "source": [
    "## Author\n",
    "Martin Gun"
   ]
  },
  {
   "cell_type": "markdown",
   "id": "c0b99e1c-1b95-4a6d-8243-8bb6f58c90d1",
   "metadata": {
    "tags": []
   },
   "source": [
    "# Data science Tools and ecosystem"
   ]
  },
  {
   "cell_type": "markdown",
   "id": "9bc96791-6443-44e8-8cc4-f422c5a46e6d",
   "metadata": {
    "tags": []
   },
   "source": [
    "**Objectives:**\n",
    "- List popular languages for Data Science\n",
    "- Some of the commonly used libraries used by Data Scientists in R include:\n",
    "- Table of Data Science tools\n",
    "- Arithmetic expressions in Python.\n",
    "- Convert minutes to hours"
   ]
  },
  {
   "cell_type": "markdown",
   "id": "59c9337d-bc5a-44b0-bb8d-8fc09dbcccc6",
   "metadata": {},
   "source": [
    "In this notebook, Data Science Tools and Ecosystem are summarized."
   ]
  },
  {
   "cell_type": "markdown",
   "id": "3713d927-81c5-40c2-b33b-89e396800cd6",
   "metadata": {
    "tags": []
   },
   "source": [
    "Some of the popular languages that Data Scientists use are:"
   ]
  },
  {
   "cell_type": "markdown",
   "id": "0bcc1df0-5491-4c4b-a9af-139fa759e4a2",
   "metadata": {
    "tags": []
   },
   "source": [
    "1. R\n",
    "2. Python\n",
    "3. Julia"
   ]
  },
  {
   "cell_type": "markdown",
   "id": "dabd31d9-e424-4356-ba4d-3b1dee5303d6",
   "metadata": {},
   "source": [
    "Some of the commonly used libraries used by Data Scientists in R include:"
   ]
  },
  {
   "cell_type": "markdown",
   "id": "c35fe527-9d9e-40fd-994f-b17ae4c4913a",
   "metadata": {},
   "source": [
    "1. ggplot2\n",
    "2. dplyr\n",
    "3. caret"
   ]
  },
  {
   "cell_type": "markdown",
   "id": "098f6db0-6a95-4f92-b18f-ceac7da40cdf",
   "metadata": {
    "tags": []
   },
   "source": [
    "|Data Science Tools|\n",
    "|-|\n",
    "|1. Jupyter Notebook|\n",
    "|2. RStudio|\n",
    "|3. Apache Spark|"
   ]
  },
  {
   "cell_type": "markdown",
   "id": "9d1a3188-94a7-463d-9778-998d21cad0a1",
   "metadata": {},
   "source": [
    "### Below are a few examples of evaluating arithmetic expressions in Python."
   ]
  },
  {
   "cell_type": "code",
   "execution_count": 14,
   "id": "17079bcb-9ffc-4ede-91fd-c539ba00b2a3",
   "metadata": {
    "tags": []
   },
   "outputs": [
    {
     "name": "stdout",
     "output_type": "stream",
     "text": [
      "Result 17\n"
     ]
    }
   ],
   "source": [
    "# This a simple arithmetic expression to mutiply then add integers\n",
    "\n",
    "x = (3*4)+5\n",
    "\n",
    "print(\"Result\", x)"
   ]
  },
  {
   "cell_type": "code",
   "execution_count": 23,
   "id": "0c8ba3a5-46aa-44f9-a47e-02ca4ab35410",
   "metadata": {
    "tags": []
   },
   "outputs": [
    {
     "name": "stdout",
     "output_type": "stream",
     "text": [
      " 200 mintues converted to hours are = 3.33 Hours(rounded too 2 Decimal)\n"
     ]
    }
   ],
   "source": [
    "# This will convert 200 minutes to hours by diving by 60.\n",
    "\n",
    "hourstominutes = (200/60)\n",
    "\n",
    "print(\" 200 mintues converted to hours are = %.2f\" % hourstominutes, \"Hours(rounded too 2 Decimal)\")"
   ]
  }
 ],
 "metadata": {
  "kernelspec": {
   "display_name": "Python",
   "language": "python",
   "name": "conda-env-python-py"
  },
  "language_info": {
   "codemirror_mode": {
    "name": "ipython",
    "version": 3
   },
   "file_extension": ".py",
   "mimetype": "text/x-python",
   "name": "python",
   "nbconvert_exporter": "python",
   "pygments_lexer": "ipython3",
   "version": "3.7.12"
  }
 },
 "nbformat": 4,
 "nbformat_minor": 5
}
